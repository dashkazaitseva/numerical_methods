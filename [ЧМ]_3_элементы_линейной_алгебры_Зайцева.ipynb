{
  "nbformat": 4,
  "nbformat_minor": 0,
  "metadata": {
    "colab": {
      "name": "[ЧМ]_3_элементы_линейной_алгебры_Зайцева.ipynb",
      "provenance": [],
      "collapsed_sections": [
        "0iTVIqNmP526"
      ]
    },
    "kernelspec": {
      "display_name": "Python 3",
      "language": "python",
      "name": "python3"
    },
    "language_info": {
      "codemirror_mode": {
        "name": "ipython",
        "version": 3
      },
      "file_extension": ".py",
      "mimetype": "text/x-python",
      "name": "python",
      "nbconvert_exporter": "python",
      "pygments_lexer": "ipython3",
      "version": "3.8.8"
    }
  },
  "cells": [
    {
      "cell_type": "code",
      "metadata": {
        "id": "8--4Gv20yNoF"
      },
      "source": [
        "import numpy as np\n",
        "import copy\n",
        "import time\n",
        "import pandas as pd\n",
        "import matplotlib.pyplot as plt\n",
        "from fractions import Fraction\n"
      ],
      "execution_count": null,
      "outputs": []
    },
    {
      "cell_type": "code",
      "metadata": {
        "id": "f2V0ocml5ZnV"
      },
      "source": [
        "def good_output(a: list, approx = False) -> None:\n",
        "    \"Привычный вывод матрицы\"\n",
        "    if (approx):\n",
        "        for row in a:\n",
        "            print(*[eval(str(el)) for el in row])\n",
        "    else:\n",
        "        for row in a:\n",
        "            print(*row)\n",
        "\n",
        "def sum_of_matrix(a1:list, a2:list) -> list:\n",
        "    \"Return sum of matrixes or ERROR-message\"\n",
        "    ans = copy.deepcopy(a1)\n",
        "\n",
        "    if (len(a1) != len(a2)):\n",
        "        return 'ERROR: dimension error'\n",
        "\n",
        "    for i in range(len(a1)):\n",
        "        if (len(a1[i]) != len(a2[i])):\n",
        "            return 'ERROR: dimension error'\n",
        "        for j in range(len(a1[i])):\n",
        "            ans[i][j] += a2[i][j]\n",
        "\n",
        "\n",
        "    return ans\n",
        "\n",
        "def mul_by_number(matrix:list, coef:complex) -> list:\n",
        "    \"Return matrix multiplied by coef\"\n",
        "    ans = copy.deepcopy(matrix)\n",
        "    for i in range(len(matrix)):\n",
        "        for j in range(len(matrix[i])):\n",
        "            ans[i][j] *= coef\n",
        "\n",
        "    return ans\n",
        "\n",
        "def multiply_matrix(a1:list, a2:list) -> list:\n",
        "    \"Return matrix multiplied by other or an ERROR-message\"\n",
        "    if (len(a1[0]) != len(a2)):\n",
        "        return 'ERROR: dimension error'\n",
        "\n",
        "    ans = [[0 for i in range(len(a1))] for j in range(len(a2[0]))]\n",
        "\n",
        "    for i in range(len(a1)):\n",
        "        for j in range(len(a2[0])):\n",
        "            for cnt in range(len(a1[0])):\n",
        "                ans[i][j] += a1[i][cnt] * a2[cnt][j]\n",
        "\n",
        "    return ans\n",
        "\n",
        "\n",
        "\n",
        "def determinant(matrix:list) -> complex:\n",
        "    \"Return det(matrix)\"\n",
        "    if (len(matrix) != len(matrix[0])):\n",
        "        return 'ERROR: non-square matrix'\n",
        "\n",
        "    if (len(matrix) == 1):\n",
        "        return matrix[0][0]\n",
        "\n",
        "    ans = 0\n",
        "    sign = 1\n",
        "    for i in range(len(matrix)):\n",
        "        adding_matrix = list(zip(*matrix[1:]))\n",
        "        adding_matrix.pop(i)\n",
        "        adding_matrix = list(zip(*adding_matrix))\n",
        "        ans += sign * matrix[0][i] * determinant(adding_matrix)\n",
        "        sign *= -1\n",
        "    return ans\n",
        "\n",
        "\n",
        "\n",
        "\n",
        "def transpose(matrix:list) -> list:\n",
        "    \"Return transposed matrix\" #доп память\n",
        "    return [[matrix[j][i] for j in range(len(matrix))] for i in range(len(matrix[0])) ]\n",
        "\n",
        "\n",
        "def adjugate_matrix(matrix: list) -> list:\n",
        "    ans = [[0 for i in range(len(matrix))] for j in range(len(matrix))]\n",
        "    for i in range(len(matrix)):\n",
        "        for j in range(len(matrix)):\n",
        "            minor = copy.deepcopy(matrix)\n",
        "            \n",
        "            minor.pop(i)\n",
        "            minor = list(zip(*minor))\n",
        "\n",
        "            minor.pop(j)\n",
        "            minor = list(zip(*minor))\n",
        "            ans[i][j] = (-1) ** (i + j) * determinant(minor)\n",
        "\n",
        "\n",
        "    return transpose(ans)\n",
        "\n",
        "def invertible_matrix(matrix: list) -> list:\n",
        "    print(matrix)\n",
        "    if (determinant(matrix) == 0):\n",
        "        return np.full((len(matrix), len(matrix)), 1000000000)\n",
        "    return mul_by_number(adjugate_matrix(matrix), 1 / determinant(matrix))\n",
        "\n",
        "def get_norm_inf(matrix:list) -> complex:\n",
        "    ans = sum([abs(el) for el in matrix[0]])\n",
        "    for i in range(1, len(matrix)):\n",
        "        ans = max(ans, sum([abs(el) for el in matrix[0]]))\n",
        "\n",
        "    return ans\n",
        "\n",
        "def get_norm_2(matrix) -> complex:\n",
        "    s = 0\n",
        "    for row in matrix:\n",
        "        for el in row:\n",
        "            s += el ** 2\n",
        "    return s ** 0.5\n",
        "\n",
        "def get_cond(matrix: list) -> complex:\n",
        "    a_inv = invertible_matrix(matrix)\n",
        "    if (type(a_inv) != type('s')):\n",
        "        cond = get_norm_inf(matrix) * get_norm_inf(a_inv)\n",
        "        return cond\n",
        "        \"\"\"\n",
        "        if (cond <= 100):\n",
        "            return 'хорошо обусловлена'\n",
        "        elif (cond >= 1000):\n",
        "            return 'плохо'\n",
        "        else:\n",
        "            return 'я бы не сказала, что хорошо'\"\"\"\n",
        "    else:\n",
        "        return 10000000000000000\n",
        "        \"\"\"\n",
        "        print(10000000000000000000000000)\n",
        "        return 'плохо обусловлена'\"\"\"\n",
        "\n",
        "def input_for_user() -> list:\n",
        "    \"Interaction with user. Input matrix\"\n",
        "    n = int(input('Введите размерность матрицы, n: '))\n",
        "    while (n < 1):\n",
        "        print('Ай эм вери сори, бат 0 из нот гоинг то ворк, репит плиз')\n",
        "        n = int(input('Введите размерность матрицы: '))\n",
        "        \n",
        "    m = int(input('Введите размерность матрицы m: '))\n",
        "    type_of_data_chosen = input('Выберите нужный вам тип данных: i - int, f - float, c - complex, fr - fraction: ')\n",
        "    type_of_data = ['int', 'float', 'complex', 'Fraction']\n",
        "    if (type_of_data_chosen == 'i'):\n",
        "        type_of_data_chosen = '0'\n",
        "    if (type_of_data_chosen == 'f'):\n",
        "        type_of_data_chosen = '1'\n",
        "    if (type_of_data_chosen == 'c'):\n",
        "        type_of_data_chosen = '2'\n",
        "    if (type_of_data_chosen == 'fr'):\n",
        "        type_of_data_chosen = '3'\n",
        "\n",
        "    users_data = [[0 for j in range(m)] for i in range(n)]\n",
        "    #print(users_data)\n",
        "\n",
        "    type_of_data_chosen = int(type_of_data_chosen)\n",
        "    print('Вводите числа матрицы по одному')\n",
        "    for i in range(n):\n",
        "        for j in range(m):\n",
        "            el = input()\n",
        "            el = el.replace('i', 'j')\n",
        "            el = el.replace(' ', '')\n",
        "            if (el[-1] != 'j'):\n",
        "                el1 = ''\n",
        "                for q in range(len(el)):\n",
        "                    if (el[q] == 'j'):\n",
        "                        el1 = el[q+1:] + '+' + el[:q+1]\n",
        "                if (el1 != ''):\n",
        "                    el = el1\n",
        "            el = get_fr(el)\n",
        "            number = eval(type_of_data[type_of_data_chosen])(el)\n",
        "            #print(i, j, number)\n",
        "            users_data[i][j] = number\n",
        "\n",
        "    return users_data\n"
      ],
      "execution_count": null,
      "outputs": []
    },
    {
      "cell_type": "code",
      "metadata": {
        "colab": {
          "base_uri": "https://localhost:8080/"
        },
        "id": "7Up27pg_44Pk",
        "outputId": "f952e7b4-2861-4be0-e75c-99b634d18d7b"
      },
      "source": [
        "from google.colab import drive\n",
        "drive.mount('/content/drive')"
      ],
      "execution_count": null,
      "outputs": [
        {
          "output_type": "stream",
          "name": "stdout",
          "text": [
            "Mounted at /content/drive\n"
          ]
        }
      ]
    },
    {
      "cell_type": "markdown",
      "metadata": {
        "id": "0iTVIqNmP526"
      },
      "source": [
        "###Считывание данных + красивый вывод"
      ]
    },
    {
      "cell_type": "code",
      "metadata": {
        "id": "hsZ0rfkmLiaC"
      },
      "source": [
        "n = 9\n",
        "m = n"
      ],
      "execution_count": null,
      "outputs": []
    },
    {
      "cell_type": "code",
      "metadata": {
        "id": "3EKt0DxI_8iI"
      },
      "source": [
        "def read_csv(path:str) -> np.array:\n",
        "    return np.array(pd.read_csv(path))"
      ],
      "execution_count": null,
      "outputs": []
    },
    {
      "cell_type": "code",
      "metadata": {
        "id": "wSaf790x5Nkb"
      },
      "source": [
        "def generate_random(n: int, m: int = 0) -> np.array:\n",
        "    \"Generate random matrix\"\n",
        "    if (m == 0):\n",
        "        m = n\n",
        "    a = np.random.randint(-100, 100, size = (n, m))\n",
        "    df = pd.DataFrame(a)\n",
        "    df.to_csv('drive/My Drive/У(ч)ёба/Вуз/численные методы/random_matrix.csv', index = False)\n",
        "\n",
        "    return np.array(pd.read_csv('/content/drive/My Drive/У(ч)ёба/Вуз/численные методы/random_matrix.csv'))"
      ],
      "execution_count": null,
      "outputs": []
    },
    {
      "cell_type": "code",
      "metadata": {
        "id": "EGv9h10p8uD3"
      },
      "source": [
        "a = np.random.randint(-100, 100, size = (n, m))\n",
        "df = pd.DataFrame(a)\n",
        "\n",
        "#делаем из просто матрицы разреженную\n",
        "\n",
        "for i in range(n*(n + 1)//2 + 2 * n):\n",
        "    x, y = np.random.randint(n), np.random.randint(n)\n",
        "    a[x][y] = 0\n",
        "\n",
        "#print(a)\n",
        "\n",
        "df.to_csv('drive/My Drive/У(ч)ёба/Вуз/численные методы/random_matrix.csv', index = False)"
      ],
      "execution_count": null,
      "outputs": []
    },
    {
      "cell_type": "code",
      "metadata": {
        "id": "aY76Ku0_2sDP"
      },
      "source": [
        "a = [[3, 2, 1], [0, 1, 2]]\n",
        "b = [[1, 2], [2, 0], [3, 1]]\n",
        "c = [[1, 2, 3], [2, 3, 4]]"
      ],
      "execution_count": null,
      "outputs": []
    },
    {
      "cell_type": "code",
      "metadata": {
        "id": "IBsk3loH8Ww3"
      },
      "source": [
        "matrix = np.array(pd.read_csv('/content/drive/My Drive/У(ч)ёба/Вуз/численные методы/random_matrix.csv'))"
      ],
      "execution_count": null,
      "outputs": []
    },
    {
      "cell_type": "code",
      "metadata": {
        "id": "7DIerC1c5nja"
      },
      "source": [
        "def get_fr(s):\n",
        "    sta = -1\n",
        "    for i in range(len(s)):\n",
        "        if s[i] == '/':\n",
        "            sta = i\n",
        "    if (sta == -1):\n",
        "        return s\n",
        "    else:\n",
        "        den = int(s[i + 1:])\n",
        "        num = s[:i]\n",
        "        num = nom.split()\n",
        "        if (len(num) == 1):\n",
        "            return (num + '/' + str(den))\n",
        "        return (str(int(num[0]) * den + int(num[1])) + '/' + str(den))"
      ],
      "execution_count": null,
      "outputs": []
    },
    {
      "cell_type": "markdown",
      "metadata": {
        "id": "uPJwLbTYtPg7"
      },
      "source": [
        "\n",
        "#Итерационный метод Якоби"
      ]
    },
    {
      "cell_type": "code",
      "metadata": {
        "id": "S8VdRAGbtUqL"
      },
      "source": [
        "def Yakobi(coefs, results):\n",
        "\n",
        "    coef = [coefs[j] + [results[j]] for j in range(len(coefs))]\n",
        "   \n",
        "    x = [1 for _ in range(len(coef))]\n",
        "    x_new = [0 for _ in range(len(coef))]\n",
        "    eps = 0.001\n",
        "    cnt = 0\n",
        "    while (max([abs(x_new[i] - x[i]) for i in range(len(coef))]) > eps and cnt < 1000):\n",
        "        cnt += 1\n",
        "        x = x_new\n",
        "        x_new = [0 for _ in range(len(coef))]\n",
        "        for i in range(len(coef)):\n",
        "            if (coefs[i][i] != 0):\n",
        "                for j in range(len(coef[0])):\n",
        "                    \n",
        "                    if (j == len(coef[0]) - 1):\n",
        "                        x_new[i] += coef[i][j]\n",
        "                    elif (i != j):\n",
        "                      \n",
        "                        x_new[i] -= coef[i][j] * x[j]\n",
        "                x_new[i] /= coef[i][i]\n",
        "\n",
        "    if (max([abs(x_new[i] - x[i]) for i in range(len(coefs))]) > eps):\n",
        "        x_new = \"Невозможно получить решение данным методом\"\n",
        "    #print(x_new)\n",
        "    #print(list(zip(*list(zip(*coefs))[:-1])))\n",
        "    return [coefs, invertible_matrix(coefs), x_new]"
      ],
      "execution_count": null,
      "outputs": []
    },
    {
      "cell_type": "markdown",
      "metadata": {
        "id": "1Nqj3cdhxtpg"
      },
      "source": [
        "#Метод Гаусса-Жордана"
      ]
    },
    {
      "cell_type": "code",
      "metadata": {
        "id": "ead0M3vkyhP0"
      },
      "source": [
        "def Gauss_Jordan(coefs, results):\n",
        "    #getting coefs|identity|res\n",
        "    working_matrix = [coefs[j] + [0 for i in range(len(coefs))] + [results[j]] for j in range(len(coefs))]\n",
        "    for i in range(len(coefs)):\n",
        "        working_matrix[i][i +  len(coefs)] = 1\n",
        "\n",
        "    #going to identity|inverible|answer\n",
        "    for row in range(len(working_matrix)):\n",
        "        for i in range(row + 1, len(working_matrix)):\n",
        "            if (working_matrix[row][row] != 0):\n",
        "                for j in range(row + 1, len(working_matrix[0])):\n",
        "                    working_matrix[i][j] -= working_matrix[row][j] * working_matrix[i][row] / working_matrix[row][row]\n",
        "                working_matrix[i][row] = 0\n",
        "                \n",
        "\n",
        "\n",
        "    for row in range(len(working_matrix) - 1, -1, -1):\n",
        "        if (working_matrix[row][row] != 0):\n",
        "            for j in range(row + 1, len(working_matrix[0])):\n",
        "                working_matrix[row][j] /= working_matrix[row][row]\n",
        "            working_matrix[row][row] = 1\n",
        "            for i in range(row):\n",
        "                for j in range(row + 1, len(working_matrix[0])):\n",
        "                    working_matrix[i][j] -= working_matrix[row][j] * working_matrix[i][row]\n",
        "                working_matrix[i][row] = 0\n",
        "\n",
        "\n",
        "\n",
        "    return [coefs, [[working_matrix[i][j + len(working_matrix)] for j in range(len(working_matrix))] for i in range(len(working_matrix))], [working_matrix[i][-1] for i in range(len(working_matrix))]]"
      ],
      "execution_count": null,
      "outputs": []
    },
    {
      "cell_type": "markdown",
      "metadata": {
        "id": "uf1oXZgS4jDq"
      },
      "source": [
        "#Метод Гаусса-Жордана с дробями"
      ]
    },
    {
      "cell_type": "code",
      "metadata": {
        "id": "ULR67cFw4itR"
      },
      "source": [
        "def Gauss_Jordan_Fraction(coefs, results):\n",
        "    for i in range(len(coefs)):\n",
        "        for j in range(len(coefs[0])):\n",
        "            if (type(coefs[i][j]) != complex):\n",
        "                coefs[i][j] = Fraction(str(coefs[i][j]))\n",
        "        if (type(results[i]) != complex):\n",
        "                results[i] = Fraction(str(results[i]))\n",
        "        \n",
        "    return Gauss_Jordan(coefs, results)\n",
        "   \n",
        "    "
      ],
      "execution_count": null,
      "outputs": []
    },
    {
      "cell_type": "markdown",
      "metadata": {
        "id": "9DqdEhm57FQO"
      },
      "source": [
        "#Глобальная проверка, сравнение трех методов"
      ]
    },
    {
      "cell_type": "code",
      "metadata": {
        "id": "uT_W5e_W2gjT"
      },
      "source": [
        "def solve(s_name, coefs, results):\n",
        "    ans1 = eval(s_name + '(' + str(coefs) + ',' + str(results) + ')')\n",
        "    print('\\n Метод решения: ' + s_name + '\\n')\n",
        "    print('Исходная матрица коэффициентов')\n",
        "    print(coefs)\n",
        "    print()\n",
        "    print('Обратная матрица \\n')\n",
        "    print(ans1[1])\n",
        "    print()\n",
        "    print('Ответы: ', ans1[2])"
      ],
      "execution_count": null,
      "outputs": []
    },
    {
      "cell_type": "code",
      "metadata": {
        "colab": {
          "base_uri": "https://localhost:8080/"
        },
        "id": "9_mUKSKT7IWZ",
        "outputId": "28d0da89-d0f5-4594-e00d-575529377cf5"
      },
      "source": [
        "\n",
        "coefs, results = [[0, 1], [1, 0]], [9.03, 6.07]\n",
        "\n",
        "\n",
        "\n",
        "#число обусловленности не меняется в зависимости от метода решения, поэтому просто запусщу все три метода\n",
        "solve('Yakobi', coefs, results)\n",
        "#solve('Gauss_Jordan', coefs, results)\n",
        "#solve('Gauss_Jordan_Fraction', coefs, results)"
      ],
      "execution_count": null,
      "outputs": [
        {
          "output_type": "stream",
          "name": "stdout",
          "text": [
            "[[0, 1], [1, 0]]\n",
            "\n",
            " Метод решения: Yakobi\n",
            "\n",
            "Исходная матрица коэффициентов\n",
            "[[0, 1], [1, 0]]\n",
            "\n",
            "Обратная матрица \n",
            "\n",
            "[[-0.0, 1.0], [1.0, -0.0]]\n",
            "\n",
            "Ответы:  [0, 0]\n"
          ]
        }
      ]
    },
    {
      "cell_type": "code",
      "source": [
        "#coefs, results = [[1, 2], [1, 1.99]], [3, 3]\n",
        "solve('Yakobi', coefs, results)"
      ],
      "metadata": {
        "colab": {
          "base_uri": "https://localhost:8080/"
        },
        "id": "MMkkOR_SEyYA",
        "outputId": "54aa7c5b-864f-47de-d49b-fc10e071cc8f"
      },
      "execution_count": null,
      "outputs": [
        {
          "output_type": "stream",
          "name": "stdout",
          "text": [
            "[[0, 1], [1, 0]]\n",
            "\n",
            " Метод решения: Yakobi\n",
            "\n",
            "Исходная матрица коэффициентов\n",
            "[[0, 1], [1, 0]]\n",
            "\n",
            "Обратная матрица \n",
            "\n",
            "[[-0.0, 1.0], [1.0, -0.0]]\n",
            "\n",
            "Ответы:  [0, 0]\n"
          ]
        }
      ]
    },
    {
      "cell_type": "code",
      "source": [
        "coefs, results = [[1, 2, 3], [1, 0, 3], [3, 0, 1]], [60, 10, -5]\n",
        "solve('Yakobi', coefs, results)"
      ],
      "metadata": {
        "colab": {
          "base_uri": "https://localhost:8080/"
        },
        "id": "t0XJLvxDEztC",
        "outputId": "ff540e4c-ca8d-4d04-a334-dfbc106fe3d9"
      },
      "execution_count": null,
      "outputs": [
        {
          "output_type": "stream",
          "name": "stdout",
          "text": [
            "[[1, 2, 3], [1, 0, 3], [3, 0, 1]]\n",
            "\n",
            " Метод решения: Yakobi\n",
            "\n",
            "Исходная матрица коэффициентов\n",
            "[[1, 2, 3], [1, 0, 3], [3, 0, 1]]\n",
            "\n",
            "Обратная матрица \n",
            "\n",
            "[[0.0, -0.125, 0.375], [0.5, -0.5, 0.0], [0.0, 0.375, -0.125]]\n",
            "\n",
            "Ответы:  [inf, 0, -inf]\n"
          ]
        }
      ]
    },
    {
      "cell_type": "code",
      "source": [
        "coefs, results = [[3, 6], [2, 4]], [9, 6]\n",
        "solve('Yakobi', coefs, results)\n"
      ],
      "metadata": {
        "colab": {
          "base_uri": "https://localhost:8080/"
        },
        "id": "yWyDDp0aEzae",
        "outputId": "1d4415fe-80ad-4c68-9ff5-d394f883d287"
      },
      "execution_count": null,
      "outputs": [
        {
          "output_type": "stream",
          "name": "stdout",
          "text": [
            "[[3, 6], [2, 4]]\n",
            "\n",
            " Метод решения: Yakobi\n",
            "\n",
            "Исходная матрица коэффициентов\n",
            "[[3, 6], [2, 4]]\n",
            "\n",
            "Обратная матрица \n",
            "\n",
            "[[1000000000 1000000000]\n",
            " [1000000000 1000000000]]\n",
            "\n",
            "Ответы:  Невозможно получить решение данным методом\n"
          ]
        }
      ]
    },
    {
      "cell_type": "code",
      "source": [
        "coefs, results = [[0.2, -2.8], [0.3, 0.7]], [-24.4, 7.5]\n",
        "solve('Yakobi', coefs, results)"
      ],
      "metadata": {
        "colab": {
          "base_uri": "https://localhost:8080/"
        },
        "id": "QGL13EpPEzL7",
        "outputId": "ed08b868-b5f5-4715-db27-0c45d13f4509"
      },
      "execution_count": null,
      "outputs": [
        {
          "output_type": "stream",
          "name": "stdout",
          "text": [
            "[[0.2, -2.8], [0.3, 0.7]]\n",
            "\n",
            " Метод решения: Yakobi\n",
            "\n",
            "Исходная матрица коэффициентов\n",
            "[[0.2, -2.8], [0.3, 0.7]]\n",
            "\n",
            "Обратная матрица \n",
            "\n",
            "[[0.7142857142857143, 2.857142857142857], [-0.30612244897959184, 0.20408163265306123]]\n",
            "\n",
            "Ответы:  [-inf, inf]\n"
          ]
        }
      ]
    },
    {
      "cell_type": "code",
      "source": [
        ""
      ],
      "metadata": {
        "id": "8PxogkNREzCY"
      },
      "execution_count": null,
      "outputs": []
    },
    {
      "cell_type": "code",
      "source": [
        "coefs, results = [[100, 3], [8, 900]], [6, 13]\n",
        "solve('Yakobi', coefs, results)"
      ],
      "metadata": {
        "colab": {
          "base_uri": "https://localhost:8080/"
        },
        "id": "BaeDgSMoEyx7",
        "outputId": "e1cf7173-8f06-4c55-faca-b13a1719537d"
      },
      "execution_count": null,
      "outputs": [
        {
          "output_type": "stream",
          "name": "stdout",
          "text": [
            "[[100, 3], [8, 900]]\n",
            "\n",
            " Метод решения: Yakobi\n",
            "\n",
            "Исходная матрица коэффициентов\n",
            "[[100, 3], [8, 900]]\n",
            "\n",
            "Обратная матрица \n",
            "\n",
            "[[0.010002667377967457, -3.334222459322486e-05], [-8.891259891526629e-05, 0.0011114074864408286]]\n",
            "\n",
            "Ответы:  [0.05956666666666667, 0.01391111111111111]\n"
          ]
        }
      ]
    },
    {
      "cell_type": "code",
      "metadata": {
        "id": "I3mxk53VX9nD"
      },
      "source": [
        ""
      ],
      "execution_count": null,
      "outputs": []
    }
  ]
}