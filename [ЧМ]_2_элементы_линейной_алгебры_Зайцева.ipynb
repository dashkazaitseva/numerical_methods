{
  "nbformat": 4,
  "nbformat_minor": 0,
  "metadata": {
    "colab": {
      "name": "[ЧМ] 2_элементы линейной алгебры/Зайцева.ipynb",
      "provenance": [],
      "collapsed_sections": [
        "0iTVIqNmP526",
        "G8J5AqywGvMw",
        "5kemgttHKRas",
        "dSuBFJzULzda",
        "3rxopboj1uix",
        "Uv0HQ-n-BODG"
      ]
    },
    "kernelspec": {
      "name": "python3",
      "display_name": "Python 3"
    },
    "language_info": {
      "name": "python"
    }
  },
  "cells": [
    {
      "cell_type": "markdown",
      "metadata": {
        "id": "YJ-mToA25c4k"
      },
      "source": [
        "#Текстовое описание\n"
      ]
    },
    {
      "cell_type": "markdown",
      "metadata": {
        "id": "4rZnqdQ38Nb5"
      },
      "source": [
        "\n",
        "Функция **good_output**(a: list) -> None:\n",
        "\n",
        "Входные параметры: a - лист листов (матрица)\n",
        "\n",
        "Результат: вывод матрицы в привычном виде\n",
        "\n",
        "Возвращаемое значение: ничего\n",
        "\n",
        "\n",
        "\n",
        "---\n",
        "\n",
        "\n",
        "\n",
        "\n",
        "def **read_csv**(path:str) -> np.array:\n",
        "\n",
        "Входные параметры: path - путь к файлу, строка\n",
        "\n",
        "Возвращаемое значение: np.array, в который считана матрица из файла, заданного путем.\n",
        "\n",
        "\n",
        "---\n",
        "\n",
        "\n",
        "def **generate_random**(n: int, m: int = 0) -> np.array\n",
        "\n",
        "\n",
        "Входные параметры: n, m - размерность требуемой матрицы, m по дефолту равняется n\n",
        "\n",
        "\n",
        "Возвращаемое значение: list, сгенерированная матрица\n",
        "\n",
        "---\n",
        "\n",
        "\n",
        "def **input_for_user**() -> list\n",
        "\n",
        "Входные параметры: нет\n",
        "\n",
        "Возвращаемое значение: list, считанная со стандартного ввода матрица\n",
        "\n",
        "---\n",
        "\n",
        "def **sum_of_matrix**(a1:list, a2:list) -> list\n",
        "\n",
        "Входные параметры: a1, a2 - матрицы\n",
        "\n",
        "Возвращаемое значение: list - матрица, равная сумме данных\n",
        "\n",
        "---\n",
        "\n",
        "\n",
        "def **mul_by_number**(matrix:list, coef:complex) -> list\n",
        "\n",
        "Входные параметры: matrix, - матрица, coef - коэфициенту\n",
        "\n",
        "Возвращаемое значение: list - матрица, равная произведению данной матрицы на коэффициент\n",
        "\n",
        "---\n",
        "\n",
        "\n",
        "def **multiply_matrix**(a1:list, a2:list) -> list\n",
        "\n",
        "Входные параметры: a1, a2 - list(матрицы)\n",
        "\n",
        "Возвращаемое значение: list - матрица, равная произведению данных\n",
        "\n",
        "---\n",
        "\n",
        "\n",
        "def **count_without_brackets**(s:str, matr:dict) -> list\n",
        "\n",
        "Входные параметры: s - строка, выражение, значение которого требуется посчитать, без скобок, matr - словарь, в котором содержаться все матрицы, входящии в выражение.\n",
        "\n",
        "Возвращаемое значение: list - матрица, равная результату данного выражения \n",
        "\n",
        "---\n",
        "\n",
        "\n",
        "def **count**(s:str, matr:dict) -> list\n",
        "\n",
        "\n",
        "Входные параметры: s - строка, выражение, значение которого требуется посчитать, matr - словарь, в котором содержаться все матрицы, входящии в выражение.\n",
        "\n",
        "Возвращаемое значение: list - матрица, равная результату данного выражения \n",
        "\n",
        "---\n",
        "\n",
        "def **beautiful_string**(s:str) -> str\n",
        "\n",
        "\n",
        "Входные параметры: s - строка, выражение, значение которого требуется посчитать.\n",
        "\n",
        "Возвращаемое значение: s - строка, стандартизированная для вычисления выражения (в рамках этого кода: без пробелов, знаки умножения везде, где подразумевается умножение). \n",
        "\n",
        "---\n",
        "\n",
        "def **transpose**(matrix:list) -> list:\n",
        "\n",
        "\n",
        "Входные параметры: matrix - list(матрица).\n",
        "\n",
        "Возвращаемое значение: list - транспонированная матрица\n",
        "\n",
        "---\n",
        "\n",
        "\n",
        "def **determinant**(matrix:list) -> complex\n",
        "\n",
        "\n",
        "\n",
        "Входные параметры: matrix - list(матрица).\n",
        "\n",
        "Возвращаемое значение: complex - значение определителя данной матрицы\n",
        "\n",
        "---\n",
        "\n",
        "def **determinant_psevdo_smart**(matrix:list) -> complex\n",
        "\n",
        "Входные параметры: matrix - list(матрица).\n",
        "\n",
        "Возвращаемое значение: complex - значение определителя данной матрицы (реализация выбора хорошей строки/столбца для продолжения подсчетов)\n",
        "\n",
        "---\n",
        "\n",
        "def **adjugate_matrix**(matrix: list) -> list\n",
        "\n",
        "\n",
        "Входные параметры: matrix - list(матрица).\n",
        "\n",
        "Возвращаемое значение: list - сопряженная матрица\n",
        "\n",
        "---\n",
        "\n",
        "\n",
        "\n",
        "def **invertible_matrix**(matrix: list) -> list\n",
        "\n",
        "\n",
        "Входные параметры: matrix - list(матрица).\n",
        "\n",
        "Возвращаемое значение: list - обратная матрица\n",
        "\n",
        "---\n",
        "\n",
        "def **get_norm_inf**(matrix:list) -> complex\n",
        "\n",
        "\n",
        "Входные параметры: matrix - list(матрица).\n",
        "\n",
        "Возвращаемое значение: complex - бесконечная норма матрицы\n",
        "\n",
        "---\n",
        "\n",
        "def **get_norm_2**(matrix) -> complex\n",
        "\n",
        "\n",
        "Входные параметры: matrix - list(матрица).\n",
        "\n",
        "Возвращаемое значение: complex - вторая норма матрицы\n",
        "\n",
        "---\n",
        "\n",
        "\n",
        "def **get_cond**(matrix: list) -> complex\n",
        "\n",
        "\n",
        "Входные параметры: matrix - list(матрица).\n",
        "\n",
        "Возвращаемое значение: complex - число обусловленности матрицы\n",
        "\n"
      ]
    },
    {
      "cell_type": "code",
      "metadata": {
        "id": "8--4Gv20yNoF"
      },
      "source": [
        "import numpy as np\n",
        "import copy\n",
        "import time\n",
        "from google.colab import drive\n",
        "import pandas as pd\n",
        "import matplotlib.pyplot as plt"
      ],
      "execution_count": null,
      "outputs": []
    },
    {
      "cell_type": "code",
      "metadata": {
        "id": "DZl4jM0j8tkY",
        "colab": {
          "base_uri": "https://localhost:8080/"
        },
        "outputId": "5e9db8ef-08e1-46a7-e41f-e40a7a1d30a1"
      },
      "source": [
        "drive.mount('/content/drive')"
      ],
      "execution_count": null,
      "outputs": [
        {
          "output_type": "stream",
          "name": "stdout",
          "text": [
            "Mounted at /content/drive\n"
          ]
        }
      ]
    },
    {
      "cell_type": "markdown",
      "metadata": {
        "id": "0iTVIqNmP526"
      },
      "source": [
        "#Считывание данных + красивый вывод"
      ]
    },
    {
      "cell_type": "code",
      "metadata": {
        "id": "b24rcSeA9WPT"
      },
      "source": [
        "def good_output(a: list) -> None:\n",
        "    \"Привычный вывод матрицы\"\n",
        "    for row in a:\n",
        "        print(*row)"
      ],
      "execution_count": null,
      "outputs": []
    },
    {
      "cell_type": "code",
      "metadata": {
        "id": "hsZ0rfkmLiaC"
      },
      "source": [
        "n = 9\n",
        "m = n"
      ],
      "execution_count": null,
      "outputs": []
    },
    {
      "cell_type": "code",
      "metadata": {
        "id": "3EKt0DxI_8iI"
      },
      "source": [
        "def read_csv(path:str) -> np.array:\n",
        "    return np.array(pd.read_csv(path))"
      ],
      "execution_count": null,
      "outputs": []
    },
    {
      "cell_type": "code",
      "metadata": {
        "id": "wSaf790x5Nkb"
      },
      "source": [
        "def generate_random(n: int, m: int = 0) -> np.array:\n",
        "    \"Generate random matrix\"\n",
        "    if (m == 0):\n",
        "        m = n\n",
        "    a = np.random.randint(-100, 100, size = (n, m))\n",
        "    df = pd.DataFrame(a)\n",
        "    df.to_csv('drive/My Drive/У(ч)ёба/Вуз/численные методы/random_matrix.csv', index = False)\n",
        "\n",
        "    return np.array(pd.read_csv('/content/drive/My Drive/У(ч)ёба/Вуз/численные методы/random_matrix.csv'))"
      ],
      "execution_count": null,
      "outputs": []
    },
    {
      "cell_type": "code",
      "metadata": {
        "id": "EGv9h10p8uD3"
      },
      "source": [
        "a = np.random.randint(-100, 100, size = (n, m))\n",
        "df = pd.DataFrame(a)\n",
        "\n",
        "#делаем из просто матрицы разреженную\n",
        "\n",
        "for i in range(n*(n + 1)//2 + 2 * n):\n",
        "    x, y = np.random.randint(n), np.random.randint(n)\n",
        "    a[x][y] = 0\n",
        "\n",
        "#print(a)\n",
        "\n",
        "df.to_csv('drive/My Drive/У(ч)ёба/Вуз/численные методы/random_matrix.csv', index = False)"
      ],
      "execution_count": null,
      "outputs": []
    },
    {
      "cell_type": "code",
      "metadata": {
        "id": "aY76Ku0_2sDP"
      },
      "source": [
        "a = [[3, 2, 1], [0, 1, 2]]\n",
        "b = [[1, 2], [2, 0], [3, 1]]\n",
        "c = [[1, 2, 3], [2, 3, 4]]"
      ],
      "execution_count": null,
      "outputs": []
    },
    {
      "cell_type": "code",
      "metadata": {
        "id": "IBsk3loH8Ww3"
      },
      "source": [
        "matrix = np.array(pd.read_csv('/content/drive/My Drive/У(ч)ёба/Вуз/численные методы/random_matrix.csv'))"
      ],
      "execution_count": null,
      "outputs": []
    },
    {
      "cell_type": "code",
      "metadata": {
        "id": "saE1wFEO0vvf"
      },
      "source": [
        "def input_for_user() -> list:\n",
        "    \"Interaction with user. Input matrix\"\n",
        "    n = int(input('Введите размерность матрицы, n: '))\n",
        "    while (n < 1):\n",
        "        print('Ай эм вери сори, бат 0 из нот гоинг то ворк, репит плиз')\n",
        "        n = int(input('Введите размерность матрицы: '))\n",
        "        \n",
        "    m = int(input('Введите размерность матрицы m: '))\n",
        "    type_of_data_chosen = input('Выберите нужный вам тип данных: i - int, f - float, c - complex: ')\n",
        "    type_of_data = ['int', 'float', 'complex']\n",
        "    if (type_of_data_chosen == 'i'):\n",
        "        type_of_data_chosen = '0'\n",
        "    if (type_of_data_chosen == 'f'):\n",
        "        type_of_data_chosen = '1'\n",
        "    if (type_of_data_chosen == 'c'):\n",
        "        type_of_data_chosen = '2'\n",
        "\n",
        "    users_data = [[0 for j in range(m)] for i in range(n)]\n",
        "    #print(users_data)\n",
        "\n",
        "    type_of_data_chosen = int(type_of_data_chosen)\n",
        "    print('Вводите числа матрицы по одному')\n",
        "    for i in range(n):\n",
        "        for j in range(m):\n",
        "            el = input()\n",
        "            el = el.replace('i', 'j')\n",
        "            el = el.replace(' ', '')\n",
        "            if (el[-1] != 'j'):\n",
        "                el1 = ''\n",
        "                for q in range(len(el)):\n",
        "                    if (el[q] == 'j'):\n",
        "                        el1 = el[q+1:] + '+' + el[:q+1]\n",
        "                if (el1 != ''):\n",
        "                    el = el1\n",
        "            number = eval(type_of_data[type_of_data_chosen])(el)\n",
        "            #print(i, j, number)\n",
        "            users_data[i][j] = number\n",
        "\n",
        "    return users_data"
      ],
      "execution_count": null,
      "outputs": []
    },
    {
      "cell_type": "code",
      "metadata": {
        "colab": {
          "base_uri": "https://localhost:8080/",
          "height": 305
        },
        "id": "s0T6zufvXJLj",
        "outputId": "f44ecefe-2409-47a6-d78c-1581597b081e"
      },
      "source": [
        "input_for_user()"
      ],
      "execution_count": null,
      "outputs": [
        {
          "name": "stdout",
          "output_type": "stream",
          "text": [
            "Введите размерность матрицы, n: \n"
          ]
        },
        {
          "output_type": "error",
          "ename": "ValueError",
          "evalue": "ignored",
          "traceback": [
            "\u001b[0;31m---------------------------------------------------------------------------\u001b[0m",
            "\u001b[0;31mValueError\u001b[0m                                Traceback (most recent call last)",
            "\u001b[0;32m<ipython-input-14-f47b1d466102>\u001b[0m in \u001b[0;36m<module>\u001b[0;34m()\u001b[0m\n\u001b[0;32m----> 1\u001b[0;31m \u001b[0minput_for_user\u001b[0m\u001b[0;34m(\u001b[0m\u001b[0;34m)\u001b[0m\u001b[0;34m\u001b[0m\u001b[0;34m\u001b[0m\u001b[0m\n\u001b[0m",
            "\u001b[0;32m<ipython-input-13-e8508a928e6c>\u001b[0m in \u001b[0;36minput_for_user\u001b[0;34m()\u001b[0m\n\u001b[1;32m      1\u001b[0m \u001b[0;32mdef\u001b[0m \u001b[0minput_for_user\u001b[0m\u001b[0;34m(\u001b[0m\u001b[0;34m)\u001b[0m \u001b[0;34m->\u001b[0m \u001b[0mlist\u001b[0m\u001b[0;34m:\u001b[0m\u001b[0;34m\u001b[0m\u001b[0;34m\u001b[0m\u001b[0m\n\u001b[1;32m      2\u001b[0m     \u001b[0;34m\"Interaction with user. Input matrix\"\u001b[0m\u001b[0;34m\u001b[0m\u001b[0;34m\u001b[0m\u001b[0m\n\u001b[0;32m----> 3\u001b[0;31m     \u001b[0mn\u001b[0m \u001b[0;34m=\u001b[0m \u001b[0mint\u001b[0m\u001b[0;34m(\u001b[0m\u001b[0minput\u001b[0m\u001b[0;34m(\u001b[0m\u001b[0;34m'Введите размерность матрицы, n: '\u001b[0m\u001b[0;34m)\u001b[0m\u001b[0;34m)\u001b[0m\u001b[0;34m\u001b[0m\u001b[0;34m\u001b[0m\u001b[0m\n\u001b[0m\u001b[1;32m      4\u001b[0m     \u001b[0;32mwhile\u001b[0m \u001b[0;34m(\u001b[0m\u001b[0mn\u001b[0m \u001b[0;34m<\u001b[0m \u001b[0;36m1\u001b[0m\u001b[0;34m)\u001b[0m\u001b[0;34m:\u001b[0m\u001b[0;34m\u001b[0m\u001b[0;34m\u001b[0m\u001b[0m\n\u001b[1;32m      5\u001b[0m         \u001b[0mprint\u001b[0m\u001b[0;34m(\u001b[0m\u001b[0;34m'Ай эм вери сори, бат 0 из нот гоинг то ворк, репит плиз'\u001b[0m\u001b[0;34m)\u001b[0m\u001b[0;34m\u001b[0m\u001b[0;34m\u001b[0m\u001b[0m\n",
            "\u001b[0;31mValueError\u001b[0m: invalid literal for int() with base 10: ''"
          ]
        }
      ]
    },
    {
      "cell_type": "markdown",
      "metadata": {
        "id": "G8J5AqywGvMw"
      },
      "source": [
        "###Алгебраические операции + разбор выражения\n",
        "\n",
        "\n",
        "\n",
        "\n",
        "\n"
      ]
    },
    {
      "cell_type": "code",
      "metadata": {
        "id": "DtJ5mvH6zwCV"
      },
      "source": [
        "def sum_of_matrix(a1:list, a2:list) -> list:\n",
        "    \"Return sum of matrixes or ERROR-message\"\n",
        "    ans = copy.deepcopy(a1)\n",
        "\n",
        "    if (len(a1) != len(a2)):\n",
        "        return 'ERROR: dimension error'\n",
        "\n",
        "    for i in range(len(a1)):\n",
        "        if (len(a1[i]) != len(a2[i])):\n",
        "            return 'ERROR: dimension error'\n",
        "        for j in range(len(a1[i])):\n",
        "            ans[i][j] += a2[i][j]\n",
        "\n",
        "\n",
        "    return ans\n",
        "\n",
        "def mul_by_number(matrix:list, coef:complex) -> list:\n",
        "    \"Return matrix multiplied by coef\"\n",
        "    ans = copy.deepcopy(matrix)\n",
        "    for i in range(len(matrix)):\n",
        "        for j in range(len(matrix[i])):\n",
        "            ans[i][j] *= coef\n",
        "\n",
        "    return ans\n",
        "\n",
        "def multiply_matrix(a1:list, a2:list) -> list:\n",
        "    \"Return matrix multiplied by other or an ERROR-message\"\n",
        "    if (len(a1[0]) != len(a2)):\n",
        "        return 'ERROR: dimension error'\n",
        "\n",
        "    ans = [[0 for i in range(len(a1))] for j in range(len(a2[0]))]\n",
        "\n",
        "    for i in range(len(a1)):\n",
        "        for j in range(len(a2[0])):\n",
        "            for cnt in range(len(a1[0])):\n",
        "                ans[i][j] += a1[i][cnt] * a2[cnt][j]\n",
        "\n",
        "    return ans"
      ],
      "execution_count": null,
      "outputs": []
    },
    {
      "cell_type": "code",
      "metadata": {
        "id": "pekLlaTLzPE0"
      },
      "source": [
        "def count_without_brackets(s:str, matr:dict) -> list:\n",
        "    \"Return expression s value, there matrixes are from matr, '(' or ')' cant be in s\"\n",
        "    matr = copy.deepcopy(matr)\n",
        "    s = copy.copy(s)\n",
        "    i = 1\n",
        "    name = 'LA'\n",
        "    cnt = 65 #for creating new matrix names\n",
        "    while (i + 1 < len(s)): #умножаем матрицу на число\n",
        "        if (s[i - 1] >= '0' and s[i - 1] <= '9' and s[i] == '*' and s[i + 1] >= 'A' and s[i + 1] <= 'Z'):\n",
        "            n = len(s)\n",
        "            i0 = i - 1\n",
        "            while (i0 > 0 and s[i0 - 1] >= '0' and s[i0 - 1] <= '9'):\n",
        "                i0 -= 1\n",
        "            s0 = s[i0:i]\n",
        "            new_i = i0\n",
        "\n",
        "            i0 = i + 1\n",
        "            while (i0 + 1 < n and s[i0 + 1] >= 'A' and s[i0 + 1] <= 'Z'):\n",
        "                i0 += 1\n",
        "            name_r = s[i + 1:i0 + 1]\n",
        "            matr[name + chr(cnt)] = mul_by_number(matr[name_r], int(s0))\n",
        "\n",
        "            i = new_i - 1\n",
        "            s = s[:new_i] + name + chr(cnt)  + s[i0 + 1:]\n",
        "            cnt += 1\n",
        "            if (cnt > 90):\n",
        "                name += 'a'\n",
        "                cnt = 65\n",
        "\n",
        "        i += 1\n",
        "    i = 1\n",
        "    while (i + 1< len(s)): #матрицу на матрицу\n",
        "        if (s[i - 1] >= 'A' and s[i - 1] <= 'Z' and s[i] == '*' and s[i + 1] >= 'A' and s[i + 1] <= 'Z'):\n",
        "            n = len(s)\n",
        "            i0 = i - 1\n",
        "            while (i0 > 0 and s[i0 - 1] >= 'A' and s[i0 - 1] <= 'Z'):\n",
        "                i0 -= 1\n",
        "            name_l = s[i0:i]\n",
        "            new_i = i0\n",
        "            i0 = i + 1\n",
        "            while (i0 + 1 < n and s[i0 + 1] >= 'A' and s[i0 + 1] <= 'Z'):\n",
        "                i0 += 1\n",
        "            name_r = s[i + 1:i0 + 1]\n",
        "            matr[name + chr(cnt)] = multiply_matrix(matr[name_l], matr[name_r])\n",
        "\n",
        "            i = new_i - 1\n",
        "            s = s[:new_i] + name + chr(cnt) + s[i0 + 1:]\n",
        "            cnt += 1\n",
        "            if (cnt > 90):\n",
        "                name += 'a'\n",
        "                cnt = 65\n",
        "        i += 1 \n",
        "\n",
        "\n",
        "    i = 1\n",
        "    while (i + 1 < len(s)): #сложение/вычитание\n",
        "       if (s[i - 1] >= 'A' and s[i - 1] <= 'Z' and s[i] == '+' and s[i + 1] >= 'A' and s[i + 1] <= 'Z'):\n",
        "            n = len(s)\n",
        "            i0 = i - 1\n",
        "            while (i0 > 0 and s[i0 - 1] >= 'A' and s[i0 - 1] <= 'Z'):\n",
        "                i0 -= 1\n",
        "            name_l = s[i0:i]\n",
        "            new_i = i0\n",
        "            i0 = i + 1\n",
        "            while (i0 + 1 < n and s[i0 + 1] >= 'A' and s[i0 + 1] <= 'Z'):\n",
        "                i0 += 1\n",
        "            name_r = s[i + 1:i0 + 1]\n",
        "            matr[name + chr(cnt)] = sum_of_matrix(matr[name_l], matr[name_r])\n",
        "\n",
        "            i = new_i - 1\n",
        "            s = s[:new_i] + name + chr(cnt) + s[i0 + 1:]\n",
        "            cnt += 1\n",
        "            if (cnt > 90):\n",
        "                name += 'a'\n",
        "                cnt = 65\n",
        "       i += 1\n",
        "\n",
        "       if (s[i - 1] >= 'A' and s[i - 1] <= 'Z' and s[i] == '-' and s[i + 1] >= 'A' and s[i + 1] <= 'Z'):\n",
        "            n = len(s)\n",
        "            i0 = i - 1\n",
        "            while (i0 > 0 and s[i0 - 1] >= 'A' and s[i0 - 1] <= 'Z'):\n",
        "                i0 -= 1\n",
        "            name_l = s[i0:i]\n",
        "            new_i = i0\n",
        "            i0 = i + 1\n",
        "            while (i0 + 1 < n and s[i0 + 1] >= 'A' and s[i0 + 1] <= 'Z'):\n",
        "                i0 += 1\n",
        "            name_r = s[i + 1:i0 + 1]\n",
        "            matr[name + chr(cnt)] = sum_of_matrix(matr[name_l], mul_by_number(matr[name_r], -1))\n",
        "\n",
        "            i = new_i - 1\n",
        "            s = s[:new_i] + name + chr(cnt) + s[i0 + 1:]\n",
        "            cnt += 1\n",
        "            if (cnt > 90):\n",
        "                name += 'a'\n",
        "                cnt = 65\n",
        "       i += 1\n",
        "\n",
        "\n",
        "       \n",
        "    return matr[s]"
      ],
      "execution_count": null,
      "outputs": []
    },
    {
      "cell_type": "code",
      "metadata": {
        "id": "Kwe68f_UrawJ"
      },
      "source": [
        "def count(s:str, matr:dict) -> list:\n",
        "    \"Return expression s value or ERROR-message, where matrixes are from matr\"\n",
        "    matr = copy.deepcopy(matr)\n",
        "    s = beautiful_string(s)\n",
        "   \n",
        "\n",
        "    #проверка на псп\n",
        "    number_of_brackets = 0\n",
        "    cnt = 0\n",
        "    for i in range(len(s)):\n",
        "        if (s[i] == '('):\n",
        "            cnt += 1\n",
        "            number_of_brackets += 1\n",
        "        if (s[i] == ')'):\n",
        "            cnt -= 1\n",
        "\n",
        "        if (cnt < 0):\n",
        "            return 'ERROR: non correct expression to count'\n",
        "\n",
        "\n",
        "    if (cnt != 0):\n",
        "        return 'ERROR: non correct expression to count'\n",
        "\n",
        "    name = 'A'\n",
        "    cnt = 65\n",
        "\n",
        "    for _ in range(number_of_brackets):\n",
        "        last_opened = -1\n",
        "        i = 0\n",
        "        while (i < len(s)):\n",
        "            if (s[i] == '('):\n",
        "                last_opened = i\n",
        "            if (s[i] == ')'):\n",
        "                s_in = s[last_opened + 1:i]\n",
        "                matr[name + chr(cnt)] = count_without_brackets(s_in, matr)\n",
        "                s = s[:last_opened] + name + chr(cnt) + s[i + 1:]\n",
        "                cnt += 1\n",
        "                if (cnt > ord('Z')):\n",
        "                    name += 'A'\n",
        "                    cnt = ord('A')\n",
        "\n",
        "                i = len(s)\n",
        "            i += 1\n",
        "    \n",
        "    return count_without_brackets(s, matr)\n"
      ],
      "execution_count": null,
      "outputs": []
    },
    {
      "cell_type": "code",
      "metadata": {
        "id": "fNH3U04ky8dP"
      },
      "source": [
        "def beautiful_string(s:str) -> str:\n",
        "    \"Return formated string: no spaces, '*' on the right places\"\n",
        "    s_new = ''\n",
        "    for i in range(len(s)):\n",
        "        if (s[i] != ' '):\n",
        "            s_new += s[i]\n",
        "\n",
        "    s = s_new\n",
        "    s_new = ''\n",
        "\n",
        "   \n",
        "    i = 0\n",
        "    while (i < len(s)):\n",
        "        if (i + 1 == len(s)):\n",
        "            s_new += s[i]\n",
        "        elif (s[i] >= '0' and s[i] <= '9' and s[i + 1] >='A' and s[i + 1] <= 'Z'):\n",
        "            s_new += s[i] + '*' + s[i + 1]\n",
        "            i += 1\n",
        "        elif (s[i] == ')' and s[i + 1] != '*'):\n",
        "            s_new += ')*'\n",
        "           \n",
        "        elif (s[i] != '*' and s[i + 1] == '('):\n",
        "            s_new += s[i] + '*('\n",
        "            i += 1\n",
        "           \n",
        "        else:\n",
        "            s_new += s[i]\n",
        "\n",
        "        i += 1\n",
        "\n",
        "    return s_new"
      ],
      "execution_count": null,
      "outputs": []
    },
    {
      "cell_type": "code",
      "metadata": {
        "colab": {
          "base_uri": "https://localhost:8080/"
        },
        "id": "KpSMuYDjfsTO",
        "outputId": "1404719a-2ebb-4875-a6f7-489778c78b36"
      },
      "source": [
        "good_output(count('(12 A + B) * B', {'A' : [[1, 2], [3, 4]], 'B' : [[1, 1], [2, 2]]}))"
      ],
      "execution_count": null,
      "outputs": [
        {
          "output_type": "stream",
          "name": "stdout",
          "text": [
            "63 63\n",
            "138 138\n"
          ]
        }
      ]
    },
    {
      "cell_type": "markdown",
      "metadata": {
        "id": "5kemgttHKRas"
      },
      "source": [
        "#Транспонирование"
      ]
    },
    {
      "cell_type": "code",
      "metadata": {
        "id": "AR03SVmM7gC_"
      },
      "source": [
        "def transpose(matrix:list) -> list:\n",
        "    \"Return transposed matrix\" #доп память\n",
        "    return [[matrix[j][i] for j in range(len(matrix))] for i in range(len(matrix[0])) ]\n",
        "\n",
        "def transpose_stairs(matrix):\n",
        "    pass\n",
        "    #потому что я не осознала ваш метод. пока не осознала, но я работаю над этим"
      ],
      "execution_count": null,
      "outputs": []
    },
    {
      "cell_type": "markdown",
      "metadata": {
        "id": "dSuBFJzULzda"
      },
      "source": [
        "#Определитель"
      ]
    },
    {
      "cell_type": "code",
      "metadata": {
        "id": "5DPY4iLiGidP"
      },
      "source": [
        "def determinant(matrix:list) -> complex:\n",
        "    \"Return det(matrix)\"\n",
        "    if (len(matrix) != len(matrix[0])):\n",
        "        return 'ERROR: non-square matrix'\n",
        "\n",
        "    if (len(matrix) == 1):\n",
        "        return matrix[0][0]\n",
        "\n",
        "    ans = 0\n",
        "    sign = 1\n",
        "    for i in range(len(matrix)):\n",
        "        adding_matrix = list(zip(*matrix[1:]))\n",
        "        adding_matrix.pop(i)\n",
        "        adding_matrix = list(zip(*adding_matrix))\n",
        "        ans += sign * matrix[0][i] * determinant(adding_matrix)\n",
        "        sign *= -1\n",
        "    return ans\n",
        "\n",
        "\n",
        "def determinant_psevdo_smart(matrix:list) -> complex:\n",
        "    \"Return det(matrix), optimised by time\"\n",
        "    matrix = matrix.tolist()\n",
        "\n",
        "    #print(type(matrix[0]))\n",
        "    if (len(matrix) != len(matrix[0])):\n",
        "        return 'ERROR: non-square matrix'\n",
        "    if (len(matrix) == 1):\n",
        "        return matrix[0][0]\n",
        "    #choose\n",
        "    parameters_transp = []\n",
        "    best_column_count = max([matrix_transposed[i].count(0) for i in range(len(matrix_transposed))])\n",
        "    for i in range(len(matrix_transposed)):\n",
        "        if (matrix_transposed[i].count(0) == best_column_count):\n",
        "            parameters_transp.append([sum([abs(el) for el in matrix_transposed[i]]), i])\n",
        "\n",
        "    parameters_row = []\n",
        "    best_row_count = max([matrix[i].count(0) for i in range(len(matrix))])\n",
        "    for i in range(len(matrix)):\n",
        "        if (matrix[i].count(0) == best_row_count):\n",
        "            parameters_row.append([sum([abs(el) for el in matrix[i]]), i])\n",
        "    matrix_transposed = transpose(matrix)\n",
        "    \n",
        "    wm = []\n",
        "    number_of_row = 0\n",
        "    if (best_row_count > best_column_count):\n",
        "        wm = matrix\n",
        "        parameters_row.sort()\n",
        "        number_of_row = parameters_row[0][1]\n",
        "    elif (best_column_count > best_row_count):\n",
        "        wm = matrix_transposed\n",
        "        parameters_transp.sort()\n",
        "        number_of_row = parameters_transp[0][1]\n",
        "    else:\n",
        "        parameters_row.sort()\n",
        "        parameters_transp.sort()\n",
        "\n",
        "        if (parameters_row[0][0] < parameters_transp[0][0]):\n",
        "            wm = matrix\n",
        "            number_of_row = parameters_row[0][1]\n",
        "        else:\n",
        "            wm = matrix_transposed\n",
        "            number_of_row = parameters_transp[0][1]\n",
        "\n",
        "\n",
        "    #calculate\n",
        "    ans = 0\n",
        "    sign = (-1) ** number_of_row\n",
        "    for i in range(len(wm)):\n",
        "        adding_matrix = copy.deepcopy(wm)\n",
        "        adding_matrix.pop(number_of_row)\n",
        "        adding_matrix = list(zip(*adding_matrix))\n",
        "        adding_matrix.pop(i)\n",
        "        adding_matrix = list(zip(*adding_matrix))\n",
        "        if (wm[number_of_row][i] != 0):\n",
        "            #print(wm[number_of_row][i], determinant(adding_matrix))\n",
        "            ans += sign * wm[number_of_row][i] * determinant(adding_matrix)\n",
        "        sign *= -1\n",
        "\n",
        "\n",
        "\n",
        "    #print('here')\n",
        "    return ans"
      ],
      "execution_count": null,
      "outputs": []
    },
    {
      "cell_type": "markdown",
      "metadata": {
        "id": "3rxopboj1uix"
      },
      "source": [
        "#Некоторые операции с лекции, которые не нужны по заданию\n"
      ]
    },
    {
      "cell_type": "code",
      "metadata": {
        "id": "xndhegN5CCkw"
      },
      "source": [
        "def adjugate_matrix(matrix: list) -> list:\n",
        "    ans = [[0 for i in range(len(matrix))] for j in range(len(matrix))]\n",
        "    for i in range(len(a)):\n",
        "        for j in range(len(a)):\n",
        "            minor = copy.deepcopy(matrix)\n",
        "            minor.pop(i)\n",
        "            minor = list(zip(*minor))\n",
        "            minor.pop(j)\n",
        "            minor = list(zip(*minor))\n",
        "            ans[i][j] = (-1) ** (i + j) * determinant(minor)\n",
        "\n",
        "\n",
        "    return transpose(ans)"
      ],
      "execution_count": null,
      "outputs": []
    },
    {
      "cell_type": "code",
      "metadata": {
        "id": "pKGm03FxFnrK"
      },
      "source": [
        "def invertible_matrix(matrix: list) -> list:\n",
        "    if (determinant(matrix) == 0):\n",
        "        return 'ERROR: there is no invertible matrix'\n",
        "    return mul_by_number(adjugate_matrix(matrix), 1 / determinant(matrix))"
      ],
      "execution_count": null,
      "outputs": []
    },
    {
      "cell_type": "code",
      "metadata": {
        "id": "qLvVOWgumZ0x"
      },
      "source": [
        "def get_norm_inf(matrix:list) -> complex:\n",
        "    ans = sum([abs(el) for el in matrix[0]])\n",
        "    for i in range(1, len(matrix)):\n",
        "        ans = max(ans, sum([abs(el) for el in matrix[0]]))\n",
        "\n",
        "    return ans\n",
        "\n",
        "def get_norm_2(matrix) -> complex:\n",
        "    s = 0\n",
        "    for row in matrix:\n",
        "        for el in row:\n",
        "            s += el ** 2\n",
        "    return s ** 0.5"
      ],
      "execution_count": null,
      "outputs": []
    },
    {
      "cell_type": "code",
      "metadata": {
        "id": "h_HyNb2FCCDo"
      },
      "source": [
        "def get_cond(matrix: list) -> complex:\n",
        "    a_inv = invertible_matrix(matrix)\n",
        "    if (type(a_inv) != type('s')):\n",
        "        cond = get_norm_inf(matrix) * get_norm_inf(a_inv)\n",
        "        return cond\n",
        "        \"\"\"\n",
        "        if (cond <= 100):\n",
        "            return 'хорошо обусловлена'\n",
        "        elif (cond >= 1000):\n",
        "            return 'плохо'\n",
        "        else:\n",
        "            return 'я бы не сказала, что хорошо'\"\"\"\n",
        "    else:\n",
        "        return 10000000000000000\n",
        "        \"\"\"\n",
        "        print(10000000000000000000000000)\n",
        "        return 'плохо обусловлена'\"\"\""
      ],
      "execution_count": null,
      "outputs": []
    },
    {
      "cell_type": "code",
      "metadata": {
        "id": "e46giHe7IQ5u",
        "colab": {
          "base_uri": "https://localhost:8080/"
        },
        "outputId": "5bda50f1-ab68-4cd3-debb-b093517d2279"
      },
      "source": [
        "a = [[1, 2], [2, 4]]\n",
        "delta = 0.1\n",
        "ans = []\n",
        "\n",
        "for i in range(3):\n",
        "    a_new = copy.deepcopy(a)\n",
        "    a_new[0][0] += delta\n",
        "    a_new[0][1] += delta\n",
        "    a_new[1][0] += delta\n",
        "    a_new[1][1] -= delta\n",
        "    delta /= 10\n",
        "    print()\n",
        "    ans.append(get_cond(a_new))"
      ],
      "execution_count": null,
      "outputs": [
        {
          "output_type": "stream",
          "name": "stdout",
          "text": [
            "\n",
            "\n",
            "\n"
          ]
        }
      ]
    },
    {
      "cell_type": "code",
      "metadata": {
        "colab": {
          "base_uri": "https://localhost:8080/",
          "height": 639
        },
        "id": "rcip6f8QJSG-",
        "outputId": "211f0457-e72a-4786-ad89-c690220b7d23"
      },
      "source": [
        "plt.figure(figsize = (20, 10))\n",
        "plt.title('Зависимость числа обусловленности от количества знаков после запятой')\n",
        "plt.ylabel('Обусловленность')\n",
        "plt.xlabel('Порядок епсилон-отклонения от данной матрицы')\n",
        "plt.plot(np.arange(1, len(ans) + 1),ans, color = 'c')"
      ],
      "execution_count": null,
      "outputs": [
        {
          "output_type": "execute_result",
          "data": {
            "text/plain": [
              "[<matplotlib.lines.Line2D at 0x7f843b8280d0>]"
            ]
          },
          "metadata": {},
          "execution_count": 52
        },
        {
          "output_type": "display_data",
          "data": {
            "image/png": "[encoded data removed]",
            "text/plain": [
              "<Figure size 1440x720 with 1 Axes>"
            ]
          },
          "metadata": {
            "needs_background": "light"
          }
        }
      ]
    },
    {
      "cell_type": "markdown",
      "metadata": {
        "id": "YdbtcgPkLKoI"
      },
      "source": [
        "Теоретический вывод: чем меньше порядок величины, тем больший вклад в обусловленность матрицы он вносит, в случае, если мы где-то у плохо обусловленной матрицы. \n",
        "\n",
        "Для хорошо обусловленной матрицы число обусловленности изменится, но не поменяет порядка."
      ]
    },
    {
      "cell_type": "code",
      "metadata": {
        "colab": {
          "base_uri": "https://localhost:8080/"
        },
        "id": "VTNh1GveIEyi",
        "outputId": "f366688b-9de8-4107-c5f3-c7165891e3b8"
      },
      "source": [
        "a = [[1.01, 2.01], [2.01, 3.98]]\n",
        "get_cond(a)"
      ],
      "execution_count": null,
      "outputs": [
        {
          "output_type": "execute_result",
          "data": {
            "text/plain": [
              "891.1231527094089"
            ]
          },
          "metadata": {},
          "execution_count": 30
        }
      ]
    },
    {
      "cell_type": "markdown",
      "metadata": {
        "id": "Uv0HQ-n-BODG"
      },
      "source": [
        "#Проверочки"
      ]
    },
    {
      "cell_type": "code",
      "metadata": {
        "colab": {
          "base_uri": "https://localhost:8080/"
        },
        "id": "T9xViK9MBaZi",
        "outputId": "b1ed2b6c-1b8a-479a-ae90-4e1c5ed597cc"
      },
      "source": [
        "t0 = time.time()\n",
        "cur = determinant_psevdo_smart(matrix)\n",
        "t1 = time.time()\n",
        "t0_in = time.time()\n",
        "cur2 = np.linalg.det(matrix)\n",
        "t1_in = time.time()\n",
        "t0_s = time.time()\n",
        "cur3 = determinant(matrix)\n",
        "t1_s = time.time()\n",
        "\n",
        "print(cur, cur2, cur3 )\n",
        "\n",
        "\n",
        "\n",
        "print()\n",
        "print(f'Время работы моего псевдоумного зверенка {t1 - t0}, время для моего глупого {t1_s - t0_s}, время работы встроенной штуки {t1_in - t0_in}')"
      ],
      "execution_count": null,
      "outputs": [
        {
          "output_type": "stream",
          "name": "stdout",
          "text": [
            "-136356270121772964 -1.3635627012177293e+17 -136356270121772964\n",
            "\n",
            "Время работы моего псевдоумного зверенка 0.2712390422821045, время для моего глупого 1.5277552604675293, время работы встроенной штуки 0.00026035308837890625\n"
          ]
        }
      ]
    },
    {
      "cell_type": "code",
      "metadata": {
        "colab": {
          "base_uri": "https://localhost:8080/"
        },
        "id": "eA6kscZh5cuy",
        "outputId": "9b67dbcb-7d32-4456-b6dc-e462839e50ae"
      },
      "source": [
        "a = generate_random(3, 5)\n",
        "good_output(a)\n",
        "print()\n",
        "t0 = time.time()\n",
        "good_output(transpose(a))\n",
        "t1 = time.time()\n",
        "print()\n",
        "t0_in = time.time()\n",
        "good_output(a.transpose())\n",
        "t1_in = time.time()\n",
        "print(f'Мое время {t1 - t0}, втроенное {t1_in - t0_in}')"
      ],
      "execution_count": null,
      "outputs": [
        {
          "output_type": "stream",
          "name": "stdout",
          "text": [
            "-96 5 -48 -59 -9\n",
            "79 -100 -23 76 -25\n",
            "-100 -89 -100 6 2\n",
            "\n",
            "-96 79 -100\n",
            "5 -100 -89\n",
            "-48 -23 -100\n",
            "-59 76 6\n",
            "-9 -25 2\n",
            "\n",
            "-96 79 -100\n",
            "5 -100 -89\n",
            "-48 -23 -100\n",
            "-59 76 6\n",
            "-9 -25 2\n",
            "Мое время 0.0025119781494140625, втроенное 0.0005109310150146484\n"
          ]
        }
      ]
    },
    {
      "cell_type": "code",
      "metadata": {
        "id": "6w0WIptu0_hi"
      },
      "source": [
        "def s(a, b = 0):\n",
        "    return (a * b)"
      ],
      "execution_count": null,
      "outputs": []
    },
    {
      "cell_type": "code",
      "metadata": {
        "colab": {
          "base_uri": "https://localhost:8080/"
        },
        "id": "L-rdGIjp0skx",
        "outputId": "ba924937-040f-4cb2-bf1f-7f4a2cb0532b"
      },
      "source": [
        "s = list(map(int, '1  11 '.split()))\n",
        "s"
      ],
      "execution_count": null,
      "outputs": [
        {
          "output_type": "execute_result",
          "data": {
            "text/plain": [
              "[1, 11]"
            ]
          },
          "metadata": {},
          "execution_count": 40
        }
      ]
    },
    {
      "cell_type": "code",
      "metadata": {
        "colab": {
          "base_uri": "https://localhost:8080/",
          "height": 527
        },
        "id": "XkdswSQwrvCU",
        "outputId": "a3ee4d25-0ecb-4f03-9aed-2d8fceeaf91b"
      },
      "source": [
        "print('Дорогой пользователь, пожалуйста, вводи в формате 5*А, если ты умножаешь матрицу на число')\n",
        "print('Хорошего дня')\n",
        "s = input('Введите выражение, которое требуется посчитать')\n",
        "s = s.upper()\n",
        "print(f'Вы имели в виду {s}?')\n",
        "ans = input('y/n?')\n",
        "while (ans.lower() != 'y'):\n",
        "    s = input('Введите выражение, которое требуется посчитать')\n",
        "    s = s.upper()\n",
        "    print(f'Вы имели в виду {s}?')\n",
        "    ans = input('y/n?')\n",
        "\n",
        "matrixes = dict()\n",
        "for el in s:\n",
        "    if (el >= 'A' and el <= 'Z' and not el in matrixes):\n",
        "        print('Перейдите к вводу ', el)\n",
        "        matrixes[el] = input_for_user()\n",
        "\n",
        "print(count(s, matrixes))"
      ],
      "execution_count": null,
      "outputs": [
        {
          "output_type": "error",
          "ename": "KeyboardInterrupt",
          "evalue": "ignored",
          "traceback": [
            "\u001b[0;31m---------------------------------------------------------------------------\u001b[0m",
            "\u001b[0;31mKeyboardInterrupt\u001b[0m                         Traceback (most recent call last)",
            "\u001b[0;32m/usr/local/lib/python3.7/dist-packages/ipykernel/kernelbase.py\u001b[0m in \u001b[0;36m_input_request\u001b[0;34m(self, prompt, ident, parent, password)\u001b[0m\n\u001b[1;32m    728\u001b[0m             \u001b[0;32mtry\u001b[0m\u001b[0;34m:\u001b[0m\u001b[0;34m\u001b[0m\u001b[0;34m\u001b[0m\u001b[0m\n\u001b[0;32m--> 729\u001b[0;31m                 \u001b[0mident\u001b[0m\u001b[0;34m,\u001b[0m \u001b[0mreply\u001b[0m \u001b[0;34m=\u001b[0m \u001b[0mself\u001b[0m\u001b[0;34m.\u001b[0m\u001b[0msession\u001b[0m\u001b[0;34m.\u001b[0m\u001b[0mrecv\u001b[0m\u001b[0;34m(\u001b[0m\u001b[0mself\u001b[0m\u001b[0;34m.\u001b[0m\u001b[0mstdin_socket\u001b[0m\u001b[0;34m,\u001b[0m \u001b[0;36m0\u001b[0m\u001b[0;34m)\u001b[0m\u001b[0;34m\u001b[0m\u001b[0;34m\u001b[0m\u001b[0m\n\u001b[0m\u001b[1;32m    730\u001b[0m             \u001b[0;32mexcept\u001b[0m \u001b[0mException\u001b[0m\u001b[0;34m:\u001b[0m\u001b[0;34m\u001b[0m\u001b[0;34m\u001b[0m\u001b[0m\n",
            "\u001b[0;32m/usr/local/lib/python3.7/dist-packages/jupyter_client/session.py\u001b[0m in \u001b[0;36mrecv\u001b[0;34m(self, socket, mode, content, copy)\u001b[0m\n\u001b[1;32m    802\u001b[0m         \u001b[0;32mtry\u001b[0m\u001b[0;34m:\u001b[0m\u001b[0;34m\u001b[0m\u001b[0;34m\u001b[0m\u001b[0m\n\u001b[0;32m--> 803\u001b[0;31m             \u001b[0mmsg_list\u001b[0m \u001b[0;34m=\u001b[0m \u001b[0msocket\u001b[0m\u001b[0;34m.\u001b[0m\u001b[0mrecv_multipart\u001b[0m\u001b[0;34m(\u001b[0m\u001b[0mmode\u001b[0m\u001b[0;34m,\u001b[0m \u001b[0mcopy\u001b[0m\u001b[0;34m=\u001b[0m\u001b[0mcopy\u001b[0m\u001b[0;34m)\u001b[0m\u001b[0;34m\u001b[0m\u001b[0;34m\u001b[0m\u001b[0m\n\u001b[0m\u001b[1;32m    804\u001b[0m         \u001b[0;32mexcept\u001b[0m \u001b[0mzmq\u001b[0m\u001b[0;34m.\u001b[0m\u001b[0mZMQError\u001b[0m \u001b[0;32mas\u001b[0m \u001b[0me\u001b[0m\u001b[0;34m:\u001b[0m\u001b[0;34m\u001b[0m\u001b[0;34m\u001b[0m\u001b[0m\n",
            "\u001b[0;32m/usr/local/lib/python3.7/dist-packages/zmq/sugar/socket.py\u001b[0m in \u001b[0;36mrecv_multipart\u001b[0;34m(self, flags, copy, track)\u001b[0m\n\u001b[1;32m    624\u001b[0m         \"\"\"\n\u001b[0;32m--> 625\u001b[0;31m         \u001b[0mparts\u001b[0m \u001b[0;34m=\u001b[0m \u001b[0;34m[\u001b[0m\u001b[0mself\u001b[0m\u001b[0;34m.\u001b[0m\u001b[0mrecv\u001b[0m\u001b[0;34m(\u001b[0m\u001b[0mflags\u001b[0m\u001b[0;34m,\u001b[0m \u001b[0mcopy\u001b[0m\u001b[0;34m=\u001b[0m\u001b[0mcopy\u001b[0m\u001b[0;34m,\u001b[0m \u001b[0mtrack\u001b[0m\u001b[0;34m=\u001b[0m\u001b[0mtrack\u001b[0m\u001b[0;34m)\u001b[0m\u001b[0;34m]\u001b[0m\u001b[0;34m\u001b[0m\u001b[0;34m\u001b[0m\u001b[0m\n\u001b[0m\u001b[1;32m    626\u001b[0m         \u001b[0;31m# have first part already, only loop while more to receive\u001b[0m\u001b[0;34m\u001b[0m\u001b[0;34m\u001b[0m\u001b[0;34m\u001b[0m\u001b[0m\n",
            "\u001b[0;32mzmq/backend/cython/socket.pyx\u001b[0m in \u001b[0;36mzmq.backend.cython.socket.Socket.recv\u001b[0;34m()\u001b[0m\n",
            "\u001b[0;32mzmq/backend/cython/socket.pyx\u001b[0m in \u001b[0;36mzmq.backend.cython.socket.Socket.recv\u001b[0;34m()\u001b[0m\n",
            "\u001b[0;32mzmq/backend/cython/socket.pyx\u001b[0m in \u001b[0;36mzmq.backend.cython.socket._recv_copy\u001b[0;34m()\u001b[0m\n",
            "\u001b[0;32m/usr/local/lib/python3.7/dist-packages/zmq/backend/cython/checkrc.pxd\u001b[0m in \u001b[0;36mzmq.backend.cython.checkrc._check_rc\u001b[0;34m()\u001b[0m\n",
            "\u001b[0;31mKeyboardInterrupt\u001b[0m: ",
            "\nDuring handling of the above exception, another exception occurred:\n",
            "\u001b[0;31mKeyboardInterrupt\u001b[0m                         Traceback (most recent call last)",
            "\u001b[0;32m<ipython-input-34-5fe571bf9f12>\u001b[0m in \u001b[0;36m<module>\u001b[0;34m()\u001b[0m\n\u001b[0;32m----> 1\u001b[0;31m \u001b[0ms\u001b[0m \u001b[0;34m=\u001b[0m \u001b[0minput\u001b[0m\u001b[0;34m(\u001b[0m\u001b[0;34m'Введите выражение, которое требуется посчитать'\u001b[0m\u001b[0;34m)\u001b[0m\u001b[0;34m\u001b[0m\u001b[0;34m\u001b[0m\u001b[0m\n\u001b[0m\u001b[1;32m      2\u001b[0m \u001b[0ms\u001b[0m \u001b[0;34m=\u001b[0m \u001b[0ms\u001b[0m\u001b[0;34m.\u001b[0m\u001b[0mupper\u001b[0m\u001b[0;34m(\u001b[0m\u001b[0;34m)\u001b[0m\u001b[0;34m\u001b[0m\u001b[0;34m\u001b[0m\u001b[0m\n\u001b[1;32m      3\u001b[0m \u001b[0mprint\u001b[0m\u001b[0;34m(\u001b[0m\u001b[0;34mf'Вы имели в виду {s}?'\u001b[0m\u001b[0;34m)\u001b[0m\u001b[0;34m\u001b[0m\u001b[0;34m\u001b[0m\u001b[0m\n\u001b[1;32m      4\u001b[0m \u001b[0mans\u001b[0m \u001b[0;34m=\u001b[0m \u001b[0minput\u001b[0m\u001b[0;34m(\u001b[0m\u001b[0;34m'y/n?'\u001b[0m\u001b[0;34m)\u001b[0m\u001b[0;34m\u001b[0m\u001b[0;34m\u001b[0m\u001b[0m\n\u001b[1;32m      5\u001b[0m \u001b[0;32mwhile\u001b[0m \u001b[0;34m(\u001b[0m\u001b[0mans\u001b[0m\u001b[0;34m.\u001b[0m\u001b[0mlower\u001b[0m\u001b[0;34m(\u001b[0m\u001b[0;34m)\u001b[0m \u001b[0;34m!=\u001b[0m \u001b[0;34m'y'\u001b[0m\u001b[0;34m)\u001b[0m\u001b[0;34m:\u001b[0m\u001b[0;34m\u001b[0m\u001b[0;34m\u001b[0m\u001b[0m\n",
            "\u001b[0;32m/usr/local/lib/python3.7/dist-packages/ipykernel/kernelbase.py\u001b[0m in \u001b[0;36mraw_input\u001b[0;34m(self, prompt)\u001b[0m\n\u001b[1;32m    702\u001b[0m             \u001b[0mself\u001b[0m\u001b[0;34m.\u001b[0m\u001b[0m_parent_ident\u001b[0m\u001b[0;34m,\u001b[0m\u001b[0;34m\u001b[0m\u001b[0;34m\u001b[0m\u001b[0m\n\u001b[1;32m    703\u001b[0m             \u001b[0mself\u001b[0m\u001b[0;34m.\u001b[0m\u001b[0m_parent_header\u001b[0m\u001b[0;34m,\u001b[0m\u001b[0;34m\u001b[0m\u001b[0;34m\u001b[0m\u001b[0m\n\u001b[0;32m--> 704\u001b[0;31m             \u001b[0mpassword\u001b[0m\u001b[0;34m=\u001b[0m\u001b[0;32mFalse\u001b[0m\u001b[0;34m,\u001b[0m\u001b[0;34m\u001b[0m\u001b[0;34m\u001b[0m\u001b[0m\n\u001b[0m\u001b[1;32m    705\u001b[0m         )\n\u001b[1;32m    706\u001b[0m \u001b[0;34m\u001b[0m\u001b[0m\n",
            "\u001b[0;32m/usr/local/lib/python3.7/dist-packages/ipykernel/kernelbase.py\u001b[0m in \u001b[0;36m_input_request\u001b[0;34m(self, prompt, ident, parent, password)\u001b[0m\n\u001b[1;32m    732\u001b[0m             \u001b[0;32mexcept\u001b[0m \u001b[0mKeyboardInterrupt\u001b[0m\u001b[0;34m:\u001b[0m\u001b[0;34m\u001b[0m\u001b[0;34m\u001b[0m\u001b[0m\n\u001b[1;32m    733\u001b[0m                 \u001b[0;31m# re-raise KeyboardInterrupt, to truncate traceback\u001b[0m\u001b[0;34m\u001b[0m\u001b[0;34m\u001b[0m\u001b[0;34m\u001b[0m\u001b[0m\n\u001b[0;32m--> 734\u001b[0;31m                 \u001b[0;32mraise\u001b[0m \u001b[0mKeyboardInterrupt\u001b[0m\u001b[0;34m\u001b[0m\u001b[0;34m\u001b[0m\u001b[0m\n\u001b[0m\u001b[1;32m    735\u001b[0m             \u001b[0;32melse\u001b[0m\u001b[0;34m:\u001b[0m\u001b[0;34m\u001b[0m\u001b[0;34m\u001b[0m\u001b[0m\n\u001b[1;32m    736\u001b[0m                 \u001b[0;32mbreak\u001b[0m\u001b[0;34m\u001b[0m\u001b[0;34m\u001b[0m\u001b[0m\n",
            "\u001b[0;31mKeyboardInterrupt\u001b[0m: "
          ]
        }
      ]
    }
  ]
}